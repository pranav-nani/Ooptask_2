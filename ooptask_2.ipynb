{
  "nbformat": 4,
  "nbformat_minor": 0,
  "metadata": {
    "colab": {
      "name": "ooptask_2.ipynb",
      "provenance": [],
      "collapsed_sections": []
    },
    "kernelspec": {
      "name": "python3",
      "display_name": "Python 3"
    },
    "language_info": {
      "name": "python"
    }
  },
  "cells": [
    {
      "cell_type": "code",
      "metadata": {
        "colab": {
          "base_uri": "https://localhost:8080/"
        },
        "id": "gBV7ft6YnttY",
        "outputId": "3e011c9c-3180-4e75-b970-86d96579894b"
      },
      "source": [
        "#Question_1\n",
        "class Circle():\n",
        "    def __init__(self, r):\n",
        "        self.radius = r\n",
        "\n",
        "    def area(self):\n",
        "        return self.radius**2*3.14\n",
        "    \n",
        "    def perimeter(self):\n",
        "        return 2*self.radius*3.14\n",
        "x=float(input(\"enter the adius of circle:\"))\n",
        "NewCircle = Circle(x)\n",
        "print(NewCircle.area())\n",
        "print(NewCircle.perimeter())"
      ],
      "execution_count": null,
      "outputs": [
        {
          "output_type": "stream",
          "name": "stdout",
          "text": [
            "enter the adius of circle:8\n",
            "200.96\n",
            "50.24\n"
          ]
        }
      ]
    },
    {
      "cell_type": "code",
      "metadata": {
        "id": "HDGRYUtjr_F9",
        "colab": {
          "base_uri": "https://localhost:8080/"
        },
        "outputId": "4d47ba3b-6f7d-4c2c-bdc3-734b93124768"
      },
      "source": [
        "#Question_2\n",
        "class facultydata:\n",
        "  def __init__(self,name,empid,branch,salary):\n",
        "    self.name=name\n",
        "    self.empid=empid\n",
        "    self.branch=branch\n",
        "    self.salary=salary\n",
        "print(\"details of faculty-1 :\")\n",
        "faculty1=facultydata(\"ravi\",1,\"CSE\",250000)\n",
        "print(faculty1.name)\n",
        "print(faculty1.empid)\n",
        "print(faculty1.branch)\n",
        "print(faculty1.salary)\n",
        "print(\"details of faculty-2 :\")\n",
        "faculty2=facultydata(\"pranav\",2,\"ECE\",200000)\n",
        "print(faculty2.name)\n",
        "print(faculty2.empid)\n",
        "print(faculty2.branch)\n",
        "print(faculty2.salary)\n",
        "print(\"details of faculty-3 :\")\n",
        "faculty3=facultydata(\"uma\",3,\"ECE\",200000)\n",
        "print(faculty3.name)\n",
        "print(faculty3.empid)\n",
        "print(faculty3.branch)\n",
        "print(faculty3.salary)\n",
        "print(\"details of faculty-4 :\")\n",
        "faculty4=facultydata(\"anandh\",4,\"DS\",275000)\n",
        "print(faculty4.name)\n",
        "print(faculty4.empid)\n",
        "print(faculty4.branch)\n",
        "print(faculty4.salary)\n",
        "print(\"details of faculty-5 :\")\n",
        "faculty5=facultydata(\"raju\",5,\"CSE\",250000)\n",
        "print(faculty5.name)\n",
        "print(faculty5.empid)\n",
        "print(faculty5.branch)\n",
        "print(faculty5.salary)\n",
        "\n"
      ],
      "execution_count": null,
      "outputs": [
        {
          "output_type": "stream",
          "name": "stdout",
          "text": [
            "details of faculty-1 :\n",
            "ravi\n",
            "1\n",
            "CSE\n",
            "250000\n",
            "details of faculty-2 :\n",
            "pranav\n",
            "2\n",
            "ECE\n",
            "200000\n",
            "details of faculty-3 :\n",
            "uma\n",
            "3\n",
            "ECE\n",
            "200000\n",
            "details of faculty-4 :\n",
            "anandh\n",
            "4\n",
            "DS\n",
            "275000\n",
            "details of faculty-5 :\n",
            "raju\n",
            "5\n",
            "CSE\n",
            "250000\n"
          ]
        }
      ]
    },
    {
      "cell_type": "code",
      "metadata": {
        "colab": {
          "base_uri": "https://localhost:8080/"
        },
        "id": "BwnTt4LEJwAF",
        "outputId": "57d8eb20-5cec-48fd-85c6-27741fd329d7"
      },
      "source": [
        "#Question_3\n",
        "class Bank_Account:\n",
        "    def __init__(self):\n",
        "        self.balance=0\n",
        "        self.accountno=input(\"enter your accountno :\")\n",
        "        self.accountholdername=input(\"enter your name :\")\n",
        "        print(\"Welcome to Deposit & Withdrawal Machine!\")\n",
        "    \n",
        "    def deposit(self):\n",
        "        amount=float(input(\"Enter amount to be deposited: \"))\n",
        "        self.balance += amount\n",
        "        print(\"Amount Deposited: \",amount)\n",
        "    def withdraw(self):\n",
        "        amount = float(input(\"Enter amount to withdraw: \"))\n",
        "        if self.balance>=amount:\n",
        "            self.balance-=amount\n",
        "            print(\"You withdraw: \",amount)\n",
        "        else:\n",
        "            print(\"Insufficient balance \")\n",
        "    def display(self):\n",
        "        print(\"Net Available Balance=\",self.balance)\n",
        "    def accountdetails(self,show):\n",
        "      self.show=show\n",
        "      if (show==1) :\n",
        "        print(\"These are your bank account details :\")\n",
        "        print(\"your account number is : \",self.accountno)\n",
        "        print(\"your name is : \",self.accountholdername)\n",
        "      else :\n",
        "        print(\"Thank you !\")\n",
        "\n",
        "      \n",
        "      \n",
        "#creating an object of class\n",
        "s = Bank_Account()\n",
        "#calling functions with that class\n",
        "s.deposit()\n",
        "s.withdraw()\n",
        "s.display()\n",
        "x=int(input(\"Press 1 to show your details and press 0 for exit\"))\n",
        "s.accountdetails(x)#1 for showing the details 0 for not"
      ],
      "execution_count": null,
      "outputs": [
        {
          "output_type": "stream",
          "name": "stdout",
          "text": [
            "enter your accountno :178562\n",
            "enter your name :pranav\n",
            "Welcome to Deposit & Withdrawal Machine!\n",
            "Enter amount to be deposited: 89642\n",
            "Amount Deposited:  89642.0\n",
            "Enter amount to withdraw: 24\n",
            "You withdraw:  24.0\n",
            "Net Available Balance= 89618.0\n",
            "Press 1 to show your details and press 0 for exit0\n",
            "Thank you !\n"
          ]
        }
      ]
    },
    {
      "cell_type": "code",
      "metadata": {
        "id": "JnBtsmzPRQdb",
        "colab": {
          "base_uri": "https://localhost:8080/"
        },
        "outputId": "8f0783f8-bcaa-401c-aee4-7fead2f28b25"
      },
      "source": [
        "#Question_4\n",
        "class students:\n",
        "    count = 0\n",
        "    def __init__(self, name):\n",
        "        self.name = name\n",
        "        self.marks = []\n",
        "        students.count = students.count + 1\n",
        "        \n",
        "    def enterMarks(self):\n",
        "        for i in range(3):\n",
        "            m = int(input(\"Enter the marks of %s in %d subject: \"%(self.name, i+1)))\n",
        "            self.marks.append(m)\n",
        "            \n",
        "    def display(self):\n",
        "        print (self.name, \"got \", self.marks)\n",
        "             \n",
        "name = input(\"Enter the name of Student:\")\n",
        "s1 = students(name)\n",
        "s1.enterMarks()\n",
        "s1.display()\n",
        "print (\"\")\n",
        "name = input(\"Enter the name of Student:\")\n",
        "s2 = students(name)\n",
        "s2.enterMarks()\n",
        "s2.display()\n"
      ],
      "execution_count": null,
      "outputs": [
        {
          "output_type": "stream",
          "name": "stdout",
          "text": [
            "Enter the name of Student:pranav\n",
            "Enter the marks of pranav in 1 subject: 98\n",
            "Enter the marks of pranav in 2 subject: 94\n",
            "Enter the marks of pranav in 3 subject: 89\n",
            "pranav got  [98, 94, 89]\n",
            "\n",
            "Enter the name of Student:ravi\n",
            "Enter the marks of ravi in 1 subject: 78\n",
            "Enter the marks of ravi in 2 subject: 88\n",
            "Enter the marks of ravi in 3 subject: 89\n",
            "ravi got  [78, 88, 89]\n"
          ]
        }
      ]
    },
    {
      "cell_type": "code",
      "metadata": {
        "colab": {
          "base_uri": "https://localhost:8080/"
        },
        "id": "D_Mohih5wVHp",
        "outputId": "19c6cc52-8131-4013-e986-c8e1bc0fcf01"
      },
      "source": [
        "#Question_5\n",
        "class Patient:\n",
        "  def __init__(self, name, admission_date, symptoms : list, oxygen_level, discharge_date):\n",
        "    self.name = name\n",
        "    self.admission_date = admission_date\n",
        "    self.symptoms = symptoms\n",
        "    self.oxygen_level = oxygen_level\n",
        "    self.discharge_date = discharge_date\n",
        "\n",
        "class Data:\n",
        "  def __init__(self):\n",
        "    self.oxygen_support = []\n",
        "    self.general_ward = []\n",
        "\n",
        "  def Patient(self, patient):\n",
        "    if (patient.oxygen_level < 90):\n",
        "      self.oxygen_support.append(patient)\n",
        "    else:\n",
        "      self.general_ward.append(patient)\n",
        "\n",
        "  def numberOxygen(self):\n",
        "    print(f\"Totaal number of patients needing oxygen support is {len(self.oxygen_support)}\")\n",
        "\n",
        "  def numberGeneral(self):\n",
        "    print(f\"Total number of patients in general ward is {len(self.general_ward)}\")\n",
        "\n",
        "  def totalPatients(self):\n",
        "    print(f\"Total number of patients is {len(self.general_ward)+len(self.oxygen_support)}\")\n",
        "\n",
        "  def patientInfo(self):\n",
        "    print(\"Patients in oxygen support\")\n",
        "    for patient in self.oxygen_support:\n",
        "      print(\"\\n\")\n",
        "      print(\"Name:\", patient.name)\n",
        "      print(\"Admission Date:\", patient.admission_date)\n",
        "      print(\"symptoms:\", patient.symptoms)\n",
        "      print(\"oxygen level:\", patient.oxygen_level)\n",
        "      print(\"Discharge Date:\", patient.discharge_date)\n",
        "      print(\"\\n\")\n",
        "\n",
        "    print(\"Patients in General ward\")\n",
        "    for patient in self.general_ward:\n",
        "      print(\"Name:\", patient.name)\n",
        "      print(\"Admission Date:\", patient.admission_date)\n",
        "      print(\"symptoms:\", patient.symptoms)\n",
        "      print(\"oxygen level:\", patient.oxygen_level)\n",
        "      print(\"Discharge Date:\", patient.discharge_date)\n",
        "      print(\"\\n\")\n",
        "\n",
        "patient1 = Patient(\"Ritika\", \"11/09/2021\", [\"Fever\", \"shivering\"], 80, \"27/09/2021\")\n",
        "patient2 = Patient(\"Roshan\", \"17/09/2021\", [\"Headaches\", \"Fever\"], 120, \"30/09/2021\")\n",
        "\n",
        "db = Data()\n",
        "db.Patient(patient1)\n",
        "db.Patient(patient2)\n",
        "db.patientInfo()\n",
        "db.numberOxygen()\n",
        "db.numberGeneral()\n",
        "db.totalPatients()"
      ],
      "execution_count": 3,
      "outputs": [
        {
          "output_type": "stream",
          "name": "stdout",
          "text": [
            "Patients in oxygen support\n",
            "\n",
            "\n",
            "Name: Ritika\n",
            "Admission Date: 11/09/2021\n",
            "symptoms: ['Fever', 'shivering']\n",
            "oxygen level: 80\n",
            "Discharge Date: 27/09/2021\n",
            "\n",
            "\n",
            "Patients in General ward\n",
            "Name: Roshan\n",
            "Admission Date: 17/09/2021\n",
            "symptoms: ['Headaches', 'Fever']\n",
            "oxygen level: 120\n",
            "Discharge Date: 30/09/2021\n",
            "\n",
            "\n",
            "Totaal number of patients needing oxygen support is 1\n",
            "Total number of patients in general ward is 1\n",
            "Total number of patients is 2\n"
          ]
        }
      ]
    },
    {
      "cell_type": "code",
      "metadata": {
        "colab": {
          "base_uri": "https://localhost:8080/"
        },
        "id": "Jp29cssbKGgd",
        "outputId": "9384ecbb-6231-43ac-d603-c1949d5ed761"
      },
      "source": [
        "#Question_6\n",
        "class Time:\n",
        "    def __init__(self, hours, minutes, seconds):\n",
        "        self.hours = hours\n",
        "        self.minutes = minutes\n",
        "        self.seconds = seconds\n",
        "    def display(self):\n",
        "        print(self.hours,\":\",self.minutes,\":\",self.seconds)\n",
        "initime=Time(0,0,0)\n",
        "TIME=Time(4,50,55)\n",
        "TIME.display()"
      ],
      "execution_count": null,
      "outputs": [
        {
          "output_type": "stream",
          "name": "stdout",
          "text": [
            "4 : 50 : 55\n"
          ]
        }
      ]
    },
    {
      "cell_type": "code",
      "metadata": {
        "colab": {
          "base_uri": "https://localhost:8080/"
        },
        "id": "poHg_GJnQBMn",
        "outputId": "b532c510-24fe-40a8-bcb0-4e199f64de8c"
      },
      "source": [
        "#Question_7\n",
        "class student:\n",
        "    \n",
        "    def __init__(self, name,age, roll_num):\n",
        "        self.name = name\n",
        "        self.age = age\n",
        "        self.roll_num = roll_num\n",
        "\n",
        "std1=student(\"Rahul\",21,33)\n",
        "std2=student(\"Rohit\",22,74)\n",
        "def compare(std1,std2):\n",
        "  if(std1.age==std2.age):\n",
        "    print(\"Students have equal age\")\n",
        "  else:\n",
        "    print(\"Students do not have equal age\")\n",
        "\n",
        "\n",
        "compare(std1,std2)"
      ],
      "execution_count": null,
      "outputs": [
        {
          "output_type": "stream",
          "name": "stdout",
          "text": [
            "Students do not have equal age\n"
          ]
        }
      ]
    },
    {
      "cell_type": "code",
      "metadata": {
        "colab": {
          "base_uri": "https://localhost:8080/"
        },
        "id": "UeJZBhXqxXb5",
        "outputId": "059f2817-f98a-4c36-ecca-7eabe977d534"
      },
      "source": [
        "#Question_8\n",
        "class Student:\n",
        "    sem = 3\n",
        "    institute = \"IIIT Dharwad\"\n",
        "    \n",
        "    def setData(self):\n",
        "        self.name = input(\"Enter the name of the student : \")\n",
        "        self.id = int(input(\"Enter the USN of student : \"))\n",
        "\n",
        "    def getInstanceData(self):\n",
        "        print(f\"Name : {self.name}\")\n",
        "        print(f\"USN = {self.id}\")\n",
        "\n",
        "    @classmethod\n",
        "    def getClassData(cls):\n",
        "        print(f\"Semester : {cls.sem}\")\n",
        "        print(f\"Institute : {cls.institute}\")\n",
        "\n",
        "    @staticmethod\n",
        "    def getExplanation():\n",
        "        print(\"Class variables (sem, institute) are printed using ClassMethod and Instance variables (name, id) are printed using Instance Method\")\n",
        "\n",
        "\n",
        "s1 = Student()\n",
        "s1.setData()\n",
        "s1.getInstanceData()\n",
        "Student.getClassData()\n",
        "Student.getExplanation()"
      ],
      "execution_count": 5,
      "outputs": [
        {
          "output_type": "stream",
          "name": "stdout",
          "text": [
            "Enter the name of the student : pranav\n",
            "Enter the USN of student : 89\n",
            "Name : pranav\n",
            "USN = 89\n",
            "Semester : 3\n",
            "Institute : IIIT Dharwad\n",
            "Class variables (sem, institute) are printed using ClassMethod and Instance variables (name, id) are printed using Instance Method\n"
          ]
        }
      ]
    },
    {
      "cell_type": "code",
      "metadata": {
        "colab": {
          "base_uri": "https://localhost:8080/"
        },
        "id": "zqypPmocxXkI",
        "outputId": "4c4c1f1e-6cbd-437a-f6a5-8be13aaa95f0"
      },
      "source": [
        "#Question_9\n",
        "class Student_Uni:\n",
        "\n",
        "  def __init__(self, Name, roll_number, semester, laptop_name, laptop_cpu, laptop_ram, laptop_hard_disk):\n",
        "    self.name = Name\n",
        "    self.roll_num = roll_number\n",
        "    self.sem = semester\n",
        "    self.laptop = self.Laptop(laptop_name, laptop_cpu, laptop_ram, laptop_hard_disk)\n",
        "\n",
        "\n",
        "  class Laptop:\n",
        "    def __init__(self, name, cpu, ram : int, hard_disk):\n",
        "      self.name = name\n",
        "      self.cpu = cpu\n",
        "      self.ram = ram\n",
        "      self.hard_disk = hard_disk\n",
        "\n",
        "    def specifications(self):\n",
        "      print(\"Laptop Name:\", self.name)\n",
        "      print(\"Laptop CPU:\", self.cpu)\n",
        "      print(\"Laptop RAM:\", self.ram, \"GB\")\n",
        "      print(\"Laptop Hard disk:\", self.hard_disk)\n",
        "\n",
        "  def disp(self):\n",
        "    print(\"Name:\", self.name)\n",
        "    print(\"Roll Number:\", self.roll_num)\n",
        "    print(\"Sem:\", self.sem)\n",
        "    self.laptop.specifications()\n",
        "\n",
        "x = Student_Uni(\"Pranav\", 89 , 3,\"Lenovo Idea pad 3\", \"Intel i7\", 8, \"256 GB SSD\")\n",
        "x.disp()"
      ],
      "execution_count": 8,
      "outputs": [
        {
          "output_type": "stream",
          "name": "stdout",
          "text": [
            "Name: Pranav\n",
            "Roll Number: 89\n",
            "Sem: 3\n",
            "Laptop Name: Lenovo Idea pad 3\n",
            "Laptop CPU: Intel i7\n",
            "Laptop RAM: 8 GB\n",
            "Laptop Hard disk: 256 GB SSD\n"
          ]
        }
      ]
    }
  ]
}